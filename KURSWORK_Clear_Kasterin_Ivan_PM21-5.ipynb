{
 "cells": [
  {
   "cell_type": "code",
   "execution_count": null,
   "id": "3d8fd9ff",
   "metadata": {},
   "outputs": [],
   "source": [
    "pip install librosa"
   ]
  },
  {
   "cell_type": "markdown",
   "id": "c8a2ce69",
   "metadata": {},
   "source": [
    "Скачиваем звуковые файлы из дирректории, с которыми далее будем работать "
   ]
  },
  {
   "cell_type": "code",
   "execution_count": null,
   "id": "ba132198",
   "metadata": {},
   "outputs": [],
   "source": [
    "import numpy as np\n",
    "import pandas as pd\n",
    "import librosa\n",
    "import matplotlib.pyplot as plt\n",
    "import IPython.display as ipd\n",
    "from sklearn.metrics import classification_report, confusion_matrix, accuracy_score, precision_score, recall_score, f1_score  \n",
    "from sklearn.model_selection import train_test_split\n",
    "from sklearn.tree import DecisionTreeClassifier\n",
    "from sklearn.neighbors import KNeighborsClassifier\n",
    "from sklearn.svm import LinearSVC\n",
    "from sklearn.ensemble import RandomForestClassifier\n",
    "from sklearn.naive_bayes import GaussianNB\n",
    "from sklearn.linear_model import LogisticRegression\n",
    "from sklearn.neural_network import MLPClassifier"
   ]
  },
  {
   "cell_type": "code",
   "execution_count": null,
   "id": "e62e8cab",
   "metadata": {},
   "outputs": [],
   "source": [
    "data1 = \"Стук двигателя.wav\"\n",
    "x1 , sr_x1 = librosa.load(data1)"
   ]
  },
  {
   "cell_type": "code",
   "execution_count": null,
   "id": "96c10a9e",
   "metadata": {},
   "outputs": [],
   "source": [
    "type(sr_x1), type(x1)"
   ]
  },
  {
   "cell_type": "markdown",
   "id": "934317aa",
   "metadata": {},
   "source": [
    "Удостоверимся, что файл действительно загружен и мы можем его прослушать"
   ]
  },
  {
   "cell_type": "code",
   "execution_count": null,
   "id": "2423685b",
   "metadata": {},
   "outputs": [],
   "source": [
    "ipd.Audio(data1) "
   ]
  },
  {
   "cell_type": "markdown",
   "id": "766b833d",
   "metadata": {},
   "source": [
    "Выведем спектрограмму обрабатываемого файла и проанализируем его"
   ]
  },
  {
   "cell_type": "code",
   "execution_count": null,
   "id": "7cbd8dd2",
   "metadata": {},
   "outputs": [],
   "source": [
    "X = librosa.stft(x1)\n",
    "Xdb = librosa.amplitude_to_db(abs(X))\n",
    "plt.figure(figsize=(14, 5))\n",
    "librosa.display.specshow(Xdb, sr=sr_x1, x_axis='time', y_axis='hz')\n",
    "plt.colorbar()\n",
    "plt.show()"
   ]
  },
  {
   "cell_type": "code",
   "execution_count": null,
   "id": "c41642ed",
   "metadata": {},
   "outputs": [],
   "source": [
    "data2 = \"Свист приводного ремня.wav\"\n",
    "x2 , sr_x2 = librosa.load(data2)"
   ]
  },
  {
   "cell_type": "code",
   "execution_count": null,
   "id": "d69157e8",
   "metadata": {},
   "outputs": [],
   "source": [
    "ipd.Audio(data2)"
   ]
  },
  {
   "cell_type": "code",
   "execution_count": null,
   "id": "ab3563f4",
   "metadata": {},
   "outputs": [],
   "source": [
    "X = librosa.stft(x2)\n",
    "Xdb = librosa.amplitude_to_db(abs(X))\n",
    "plt.figure(figsize=(14, 5))\n",
    "librosa.display.specshow(Xdb, sr=sr_x2, x_axis='time', y_axis='hz')\n",
    "plt.colorbar()\n",
    "plt.show()"
   ]
  },
  {
   "cell_type": "code",
   "execution_count": null,
   "id": "197a6b62",
   "metadata": {},
   "outputs": [],
   "source": [
    "data3 = \"Неисправность выхлопной системы.mp3\"\n",
    "x3 , sr_x3 = librosa.load(data3)"
   ]
  },
  {
   "cell_type": "code",
   "execution_count": null,
   "id": "5c6659f2",
   "metadata": {},
   "outputs": [],
   "source": [
    "ipd.Audio(data3)"
   ]
  },
  {
   "cell_type": "code",
   "execution_count": null,
   "id": "41036cd1",
   "metadata": {},
   "outputs": [],
   "source": [
    "X = librosa.stft(x3)\n",
    "Xdb = librosa.amplitude_to_db(abs(X))\n",
    "plt.figure(figsize=(14, 5))\n",
    "librosa.display.specshow(Xdb, sr=sr_x3, x_axis='time', y_axis='hz')\n",
    "plt.colorbar()\n",
    "plt.show()"
   ]
  },
  {
   "cell_type": "code",
   "execution_count": null,
   "id": "9a0f778a",
   "metadata": {},
   "outputs": [],
   "source": [
    "print(x1, x2, x3)"
   ]
  },
  {
   "cell_type": "code",
   "execution_count": null,
   "id": "4d8574e5",
   "metadata": {},
   "outputs": [],
   "source": [
    "y1 = np.full(len(x1), 0)  # Первый класс - Стук двигателя\n",
    "y2 = np.full(len(x2), 1)  # Второй класс - Свист приводного ремня\n",
    "y3 = np.full(len(x3), 2)  # Третий класс - Неисправность выхлопной системы"
   ]
  },
  {
   "cell_type": "code",
   "execution_count": null,
   "id": "57489016",
   "metadata": {},
   "outputs": [],
   "source": [
    "data = np.concatenate((x1, x2, x3)) # Объединение массивов в одну таблицу\n",
    "labels = np.concatenate((y1, y2, y3))"
   ]
  },
  {
   "cell_type": "code",
   "execution_count": null,
   "id": "13e002c8",
   "metadata": {},
   "outputs": [],
   "source": [
    "df = pd.DataFrame({'data': data, 'labels': labels}) # Создание DataFrame из данных"
   ]
  },
  {
   "cell_type": "code",
   "execution_count": null,
   "id": "68e5afbd",
   "metadata": {},
   "outputs": [],
   "source": [
    "df"
   ]
  },
  {
   "cell_type": "markdown",
   "id": "2b39f245",
   "metadata": {},
   "source": [
    "При анализе каждой из используемых далее моделей машинного обучения понадобятся метрики и график матрицы ошибок для каждой из них. Чтобы не писать аналогичный код много раз, создадим функцию evaluate_model(), которая будет выполнять эти действия, в дальнейшем будем её вызывать."
   ]
  },
  {
   "cell_type": "code",
   "execution_count": null,
   "id": "a9c22116",
   "metadata": {},
   "outputs": [],
   "source": [
    "def evaluate_model(model_name, classifier, X_test, y_test):\n",
    "    \n",
    "    y_pred = classifier.predict(X_test.tolist()) # Предсказание меток для тестовых данных\n",
    "    cm = confusion_matrix(y_test.tolist(), y_pred) # Матрица ошибок\n",
    "\n",
    "    # Создание графика матрицы ошибок\n",
    "    plt.figure(figsize=(8, 6))\n",
    "    plt.imshow(cm, interpolation='nearest', cmap=plt.cm.Blues)\n",
    "    plt.title(f'Confusion Matrix - {model_name}')\n",
    "    plt.colorbar()\n",
    "    tick_marks = np.arange(len(np.unique(y_test.tolist())))\n",
    "    plt.xticks(tick_marks, np.unique(y_test.tolist()))\n",
    "    plt.yticks(tick_marks, np.unique(y_test.tolist()))\n",
    "    plt.xlabel('Predicted Label')\n",
    "    plt.ylabel('True Label')\n",
    "    plt.show()\n",
    "\n",
    "    # Подсчёт метрик нашей модели\n",
    "    classification_rep = classification_report(y_test.tolist(), y_pred) \n",
    "    accuracy = accuracy_score(y_test.tolist(), y_pred)\n",
    "    precision = precision_score(y_test.tolist(), y_pred, average='weighted', zero_division=1)\n",
    "    recall = recall_score(y_test.tolist(), y_pred, average='weighted', zero_division=1)\n",
    "    f1 = f1_score(y_test.tolist(), y_pred, average='weighted', zero_division=1)\n",
    "    \n",
    "    # Вывод самих метрик на экран\n",
    "    print(f'Classification Report - {model_name}:\\n{classification_rep}')\n",
    "    print(f'Accuracy - {model_name}: {accuracy}')\n",
    "    print(f'Precision - {model_name}: {precision}')\n",
    "    print(f'Recall - {model_name}: {recall}')\n",
    "    print(f'F1 Score - {model_name}: {f1}')\n"
   ]
  },
  {
   "cell_type": "code",
   "execution_count": null,
   "id": "fe202182",
   "metadata": {},
   "outputs": [],
   "source": [
    "X_train, X_test, y_train, y_test = train_test_split(df['data'], df['labels'], test_size=0.2, random_state=42) # Разделение данных на обучающую и тестовую выборки"
   ]
  },
  {
   "cell_type": "markdown",
   "id": "0ca09471",
   "metadata": {},
   "source": [
    "Сейчас массивы одномерны. Для дальнейшего использования понадобится их преобразовывать в двумерный вид. Чтобы не делать этого на каждом этапе вычислений, сделаем это один раз ещё до начала применения всех моделей. "
   ]
  },
  {
   "cell_type": "code",
   "execution_count": null,
   "id": "3b2611d3",
   "metadata": {},
   "outputs": [],
   "source": [
    "X_train = X_train.values.reshape(-1, 1)\n",
    "X_test = X_test.values.reshape(-1, 1)"
   ]
  },
  {
   "cell_type": "markdown",
   "id": "2307c1ca",
   "metadata": {},
   "source": [
    "#  Модель 1: Decision Tree Classifier"
   ]
  },
  {
   "cell_type": "code",
   "execution_count": null,
   "id": "c9d0f146",
   "metadata": {},
   "outputs": [],
   "source": [
    "dt_classifier = DecisionTreeClassifier()\n",
    "dt_classifier.fit(X_train, y_train)"
   ]
  },
  {
   "cell_type": "code",
   "execution_count": null,
   "id": "e73516dd",
   "metadata": {},
   "outputs": [],
   "source": [
    "evaluate_model(\"Decision Tree\", dt_classifier, X_test, y_test)"
   ]
  },
  {
   "cell_type": "markdown",
   "id": "a623c00f",
   "metadata": {},
   "source": [
    "# Модель 2: K-Nearest Neighbors Classifier"
   ]
  },
  {
   "cell_type": "code",
   "execution_count": null,
   "id": "cfb1fc08",
   "metadata": {},
   "outputs": [],
   "source": [
    "knn_classifier = KNeighborsClassifier()\n",
    "knn_classifier.fit(X_train.tolist(), y_train.tolist())"
   ]
  },
  {
   "cell_type": "code",
   "execution_count": null,
   "id": "c218c4ef",
   "metadata": {},
   "outputs": [],
   "source": [
    "evaluate_model(\"K-Nearest Neighbors\", knn_classifier, X_test, y_test)"
   ]
  },
  {
   "cell_type": "markdown",
   "id": "4c1573bd",
   "metadata": {},
   "source": [
    "# Модель 3: Support Vector Classifier"
   ]
  },
  {
   "cell_type": "code",
   "execution_count": null,
   "id": "9cefb747",
   "metadata": {},
   "outputs": [],
   "source": [
    "svc_classifier = LinearSVC()\n",
    "svc_classifier.fit(X_train.tolist(), y_train.tolist())"
   ]
  },
  {
   "cell_type": "code",
   "execution_count": null,
   "id": "a057ae12",
   "metadata": {},
   "outputs": [],
   "source": [
    "evaluate_model(\"Support Vector\", svc_classifier, X_test, y_test)"
   ]
  },
  {
   "cell_type": "markdown",
   "id": "ad8f3634",
   "metadata": {},
   "source": [
    "# Модель 4: Random Forest Classifier"
   ]
  },
  {
   "cell_type": "code",
   "execution_count": null,
   "id": "d709fe10",
   "metadata": {},
   "outputs": [],
   "source": [
    "rf_classifier = RandomForestClassifier(n_estimators=50, n_jobs=-1)\n",
    "rf_classifier.fit(X_train.tolist(), y_train.tolist())"
   ]
  },
  {
   "cell_type": "code",
   "execution_count": null,
   "id": "aae6981b",
   "metadata": {},
   "outputs": [],
   "source": [
    "evaluate_model(\"Random Forest Classifier\", rf_classifier, X_test, y_test)"
   ]
  },
  {
   "cell_type": "markdown",
   "id": "f613734e",
   "metadata": {},
   "source": [
    "# Модель 5: Gaussian Naive Bayes Classifier"
   ]
  },
  {
   "cell_type": "code",
   "execution_count": null,
   "id": "1ad86c9d",
   "metadata": {},
   "outputs": [],
   "source": [
    "nb_classifier = GaussianNB()\n",
    "nb_classifier.fit(X_train.tolist(), y_train.tolist())"
   ]
  },
  {
   "cell_type": "code",
   "execution_count": null,
   "id": "0df7f77a",
   "metadata": {},
   "outputs": [],
   "source": [
    "evaluate_model(\"Gaussian Naive Bayes\", nb_classifier, X_test, y_test)"
   ]
  },
  {
   "cell_type": "markdown",
   "id": "5b16f9b7",
   "metadata": {},
   "source": [
    "# Модель 6: Logistic Regression Classifier"
   ]
  },
  {
   "cell_type": "code",
   "execution_count": null,
   "id": "7cc2719e",
   "metadata": {},
   "outputs": [],
   "source": [
    "lr_classifier = LogisticRegression()\n",
    "lr_classifier.fit(X_train.tolist(), y_train.tolist())"
   ]
  },
  {
   "cell_type": "code",
   "execution_count": null,
   "id": "4de38284",
   "metadata": {},
   "outputs": [],
   "source": [
    "evaluate_model(\"Logistic Regression\", lr_classifier, X_test, y_test)"
   ]
  },
  {
   "cell_type": "markdown",
   "id": "c2f059d9",
   "metadata": {},
   "source": [
    "# Модель 7: Multi-layer Perceptron Classifier"
   ]
  },
  {
   "cell_type": "code",
   "execution_count": null,
   "id": "32ae7e8b",
   "metadata": {},
   "outputs": [],
   "source": [
    "mlp_classifier = MLPClassifier(hidden_layer_sizes=(50,), activation='relu', alpha=0.001, solver='adam', batch_size=100)\n",
    "mlp_classifier.fit(X_train.tolist(), y_train.tolist())"
   ]
  },
  {
   "cell_type": "code",
   "execution_count": null,
   "id": "fdba1d58",
   "metadata": {},
   "outputs": [],
   "source": [
    "evaluate_model(\"Multi-layer Perceptron\", mlp_classifier, X_test, y_test)"
   ]
  },
  {
   "cell_type": "markdown",
   "id": "fa388679",
   "metadata": {},
   "source": [
    "Лучше всего себя показали: модель 7 - Multi-layer Perceptron Classifier (Многослойный персептрон) и 5 - Gaussian Naive Bayes Classifier (Гауссовский наивный байесовский классификатор). Из-за сложности увеличения объёма датасета и ограниченной мощности ноутбука, на котором выполнялась работа, максимальная точность модели не превысила 64%, однако на более объёмном датасете этот показатель может существенно возрасти, но и в таком случае модель 7 по-прежнему будет наиболее эффективной среди остальных.  "
   ]
  }
 ],
 "metadata": {
  "kernelspec": {
   "display_name": "Python 3 (ipykernel)",
   "language": "python",
   "name": "python3"
  },
  "language_info": {
   "codemirror_mode": {
    "name": "ipython",
    "version": 3
   },
   "file_extension": ".py",
   "mimetype": "text/x-python",
   "name": "python",
   "nbconvert_exporter": "python",
   "pygments_lexer": "ipython3",
   "version": "3.10.9"
  }
 },
 "nbformat": 4,
 "nbformat_minor": 5
}
